{
 "cells": [
  {
   "cell_type": "markdown",
   "metadata": {},
   "source": [
    "# Looking At Hacker News Posts \n",
    "\n",
    "For this project, we are taking a look at a dataset from postings from Hacker News, a post site that is all about technology(which you can check it [here](https://www.kaggle.com/hacker-news/hacker-news-posts)). What we are interested in lare two specfic kinds of postings, Show HN and Ask HN. Just a brief explanation what they are, Ask HN is posting specfic questions (i.e: How to start creating a website) and Show HN is where people can show off projects that they have done, some products, etc. The questions we want to ask are if either Ask HN or Show HN receive more comments on average and when do people get more comments from posts at a specific date. "
   ]
  },
  {
   "cell_type": "code",
   "execution_count": 1,
   "metadata": {},
   "outputs": [
    {
     "name": "stdout",
     "output_type": "stream",
     "text": [
      "['id', 'title', 'url', 'num_points', 'num_comments', 'author', 'created_at']\n",
      "\n",
      "\n",
      "['12579008', 'You have two days to comment if you want stem cells to be classified as your own', 'http://www.regulations.gov/document?D=FDA-2015-D-3719-0018', '1', '0', 'altstar', '9/26/2016 3:26']\n",
      "\n",
      "\n",
      "['12579005', 'SQLAR  the SQLite Archiver', 'https://www.sqlite.org/sqlar/doc/trunk/README.md', '1', '0', 'blacksqr', '9/26/2016 3:24']\n",
      "\n",
      "\n",
      "['12578997', 'What if we just printed a flatscreen television on the side of our boxes?', 'https://medium.com/vanmoof/our-secrets-out-f21c1f03fdc8#.ietxmez43', '1', '0', 'pavel_lishin', '9/26/2016 3:19']\n",
      "\n",
      "\n",
      "['12578989', 'algorithmic music', 'http://cacm.acm.org/magazines/2011/7/109891-algorithmic-composition/fulltext', '1', '0', 'poindontcare', '9/26/2016 3:16']\n",
      "\n",
      "\n",
      "['12578979', 'How the Data Vault Enables the Next-Gen Data Warehouse and Data Lake', 'https://www.talend.com/blog/2016/05/12/talend-and-Â\\x93the-data-vaultÂ\\x94', '1', '0', 'markgainor1', '9/26/2016 3:14']\n",
      "\n",
      "\n"
     ]
    }
   ],
   "source": [
    "#Opening up and looking into the dataset (first five rows)\n",
    "from csv import reader \n",
    "\n",
    "open_file = open('C:/Users/Adity/Onedrive/Documents/Python_data_science/Datasets/HN_posts.csv', \n",
    "                 encoding='utf8')\n",
    "read_file = reader(open_file)\n",
    "hn = list(read_file)\n",
    "hn_header = hn[0]\n",
    "hn = hn[1:] \n",
    "\n",
    "def explore_data(dataset, start, end):\n",
    "    dataset_slice = dataset[start:end]\n",
    "    for row in dataset_slice:\n",
    "        print(row)\n",
    "        print('\\n')\n",
    "        \n",
    "print(hn_header)\n",
    "print('\\n')\n",
    "explore_data(hn, 0, 5)\n",
    "\n"
   ]
  },
  {
   "cell_type": "markdown",
   "metadata": {},
   "source": [
    "Here we can see what the data looks like. Each datapoint has its own id, title, url page, number of points(likes) on the posts, number of comments, the person who created the post, and when the post was being made. "
   ]
  },
  {
   "cell_type": "markdown",
   "metadata": {},
   "source": [
    "## Filtering Out the Ask HN and Show HN Posts\n",
    "\n",
    "Once we have a general understanding of how the data looks, let's start off by filtering out posts, Ask HN posts, Show HN posts, and other posts. "
   ]
  },
  {
   "cell_type": "code",
   "execution_count": 2,
   "metadata": {},
   "outputs": [
    {
     "name": "stdout",
     "output_type": "stream",
     "text": [
      "The number of Ask HN posts: 9139\n",
      "The number of Show HN posts: 10158\n",
      "The number of Other posts: 273822\n"
     ]
    }
   ],
   "source": [
    "ask_hn = []\n",
    "show_hn = []\n",
    "other_posts = []\n",
    "\n",
    "for row in hn:\n",
    "    title = row[1]\n",
    "    title = title.lower()\n",
    "    if title.startswith('ask hn'):\n",
    "        ask_hn.append(row)\n",
    "    elif title.startswith('show hn'):\n",
    "        show_hn.append(row)\n",
    "    else:\n",
    "        other_posts.append(row)\n",
    "        \n",
    "\n",
    "print(\"The number of Ask HN posts: \" + str(len(ask_hn)))\n",
    "print(\"The number of Show HN posts: \" + str(len(show_hn)))\n",
    "print(\"The number of Other posts: \" + str(len(other_posts)))"
   ]
  },
  {
   "cell_type": "markdown",
   "metadata": {},
   "source": [
    "After filtering out the title into each category, we now know that there are 9,139 Ask HN posts and 10,158 Show HN posts. So we can just say that Show HN posts occur more often than Ask HN, right? Not just yet. Let's look a bit further into data. "
   ]
  },
  {
   "cell_type": "code",
   "execution_count": 3,
   "metadata": {},
   "outputs": [
    {
     "name": "stdout",
     "output_type": "stream",
     "text": [
      "Ask HN:\n",
      "\n",
      "\n",
      "['12578908', 'Ask HN: What TLD do you use for local development?', '', '4', '7', 'Sevrene', '9/26/2016 2:53']\n",
      "\n",
      "\n",
      "['12578522', 'Ask HN: How do you pass on your work when you die?', '', '6', '3', 'PascLeRasc', '9/26/2016 1:17']\n",
      "\n",
      "\n",
      "['12577908', 'Ask HN: How a DNS problem can be limited to a geographic region?', '', '1', '0', 'kuon', '9/25/2016 22:57']\n",
      "\n",
      "\n",
      "['12577870', 'Ask HN: Why join a fund when you can be an angel?', '', '1', '3', 'anthony_james', '9/25/2016 22:48']\n",
      "\n",
      "\n",
      "['12577647', 'Ask HN: Someone uses stock trading as passive income?', '', '5', '2', '00taffe', '9/25/2016 21:50']\n",
      "\n",
      "\n",
      "\n",
      "\n",
      "Show HN:\n",
      "\n",
      "\n",
      "['12578335', 'Show HN: Finding puns computationally', 'http://puns.samueltaylor.org/', '2', '0', 'saamm', '9/26/2016 0:36']\n",
      "\n",
      "\n",
      "['12578182', 'Show HN: A simple library for complicated animations', 'https://christinecha.github.io/choreographer-js/', '1', '0', 'christinecha', '9/26/2016 0:01']\n",
      "\n",
      "\n",
      "['12578098', 'Show HN: WebGL visualization of DNA sequences', 'http://grondilu.github.io/dna.html', '1', '0', 'grondilu', '9/25/2016 23:44']\n",
      "\n",
      "\n",
      "['12577991', 'Show HN: Pomodoro-centric, heirarchical project management with ES6 modules', 'https://github.com/jakebian/zeal', '2', '0', 'dbranes', '9/25/2016 23:17']\n",
      "\n",
      "\n",
      "['12577142', 'Show HN: Jumble  Essays on the go #PaulInYourPocket', 'https://itunes.apple.com/us/app/jumble-find-startup-essay/id1150939197?ls=1&mt=8', '1', '1', 'ryderj', '9/25/2016 20:06']\n",
      "\n",
      "\n"
     ]
    }
   ],
   "source": [
    "#Looking at the first five rows of the Ask HN and Show HN datasets\n",
    "print(\"Ask HN:\")\n",
    "print(\"\\n\")\n",
    "explore_data(ask_hn,0,5)\n",
    "print(\"\\n\")\n",
    "print(\"Show HN:\")\n",
    "print(\"\\n\")\n",
    "explore_data(show_hn,0,5)"
   ]
  },
  {
   "cell_type": "markdown",
   "metadata": {},
   "source": [
    "## Calculating The Average Number Of Each Posts \n",
    "\n",
    "To actually find out out what category posts more on average, let us do some calculations for each category"
   ]
  },
  {
   "cell_type": "code",
   "execution_count": 4,
   "metadata": {},
   "outputs": [
    {
     "name": "stdout",
     "output_type": "stream",
     "text": [
      "The average amount of ask comments: 10.393478498741656\n"
     ]
    }
   ],
   "source": [
    "#Looking at average number of ask comments \n",
    "\n",
    "total_ask_comments = 0 \n",
    "\n",
    "for row in ask_hn:\n",
    "    ask_comments = int(row[4])\n",
    "    total_ask_comments += ask_comments\n",
    "\n",
    "avg_ask_comments = total_ask_comments/len(ask_hn)\n",
    "\n",
    "print(\"The average amount of ask comments: \" + str(avg_ask_comments))"
   ]
  },
  {
   "cell_type": "code",
   "execution_count": 5,
   "metadata": {},
   "outputs": [
    {
     "name": "stdout",
     "output_type": "stream",
     "text": [
      "The average amount of show comments: 9.350856467808624\n"
     ]
    }
   ],
   "source": [
    "#Looking at the average number os show comments \n",
    "\n",
    "total_show_comments = 0 \n",
    "\n",
    "for row in ask_hn:\n",
    "    show_comments = int(row[4])\n",
    "    total_show_comments += show_comments \n",
    "    \n",
    "avg_show_comments = total_show_comments/len(show_hn)\n",
    "\n",
    "print(\"The average amount of show comments: \" + str(avg_show_comments))"
   ]
  },
  {
   "cell_type": "markdown",
   "metadata": {},
   "source": [
    "Looking at the averages for both categories, we can now say that Ask HN (10 comments per post) as more comments than Show comments (9 comments per post). "
   ]
  },
  {
   "cell_type": "markdown",
   "metadata": {},
   "source": [
    "## Looking at Posts and Comments Created By Hour\n",
    "\n",
    "Let's dig deeper into the Ask categories by looking when these kinds posts and comments are made on an hourly basis"
   ]
  },
  {
   "cell_type": "code",
   "execution_count": 16,
   "metadata": {},
   "outputs": [
    {
     "name": "stdout",
     "output_type": "stream",
     "text": [
      "{2: 2996, 1: 2089, 22: 3372, 21: 4500, 19: 3954, 17: 5547, 15: 18525, 14: 4972, 13: 7245, 11: 2797, 10: 3013, 9: 1477, 7: 1585, 3: 2154, 23: 2297, 20: 4462, 16: 4466, 8: 2362, 0: 2277, 18: 4877, 12: 4234, 4: 2360, 6: 1587, 5: 1838}\n",
      "{2: 269, 1: 282, 22: 383, 21: 518, 19: 552, 17: 587, 15: 646, 14: 513, 13: 444, 11: 312, 10: 282, 9: 222, 7: 226, 3: 271, 23: 343, 20: 510, 16: 579, 8: 257, 0: 301, 18: 614, 12: 342, 4: 243, 6: 234, 5: 209}\n"
     ]
    }
   ],
   "source": [
    "#Importing the datetime module\n",
    "import datetime as dt \n",
    "\n",
    "ask_result_list = []\n",
    "\n",
    "ask_counts_by_hour = {}\n",
    "ask_comments_by_hour = {}\n",
    "\n",
    "\n",
    "for row in ask_hn:\n",
    "    item = list([row[6],row[4]])\n",
    "    ask_result_list.append(item)   \n",
    "    \n",
    "for row in ask_result_list:\n",
    "    date = row[0]\n",
    "    comments = int(row[1])\n",
    "    date_dt = dt.datetime.strptime(date, \"%m/%d/%Y %H:%M\")\n",
    "    hour = date_dt.hour\n",
    "    if hour not in ask_counts_by_hour:\n",
    "        ask_counts_by_hour[hour] = 1\n",
    "        ask_comments_by_hour[hour] = comments\n",
    "    else:\n",
    "        ask_counts_by_hour[hour] += 1\n",
    "        ask_comments_by_hour[hour] += comments\n",
    "        \n",
    "    \n",
    "print(ask_comments_by_hour)\n",
    "print(ask_counts_by_hour)  "
   ]
  },
  {
   "cell_type": "markdown",
   "metadata": {},
   "source": [
    "Let's now figure the average number of comments per post for each hour."
   ]
  },
  {
   "cell_type": "code",
   "execution_count": 19,
   "metadata": {},
   "outputs": [
    {
     "name": "stdout",
     "output_type": "stream",
     "text": [
      "[[2, 11.14], [1, 7.41], [22, 8.8], [21, 8.69], [19, 7.16], [17, 9.45], [15, 28.68], [14, 9.69], [13, 16.32], [11, 8.96], [10, 10.68], [9, 6.65], [7, 7.01], [3, 7.95], [23, 6.7], [20, 8.75], [16, 7.71], [8, 9.19], [0, 7.56], [18, 7.94], [12, 12.38], [4, 9.71], [6, 6.78], [5, 8.79]]\n"
     ]
    }
   ],
   "source": [
    "avg_by_hour = []\n",
    "\n",
    "for hour in ask_counts_by_hour:\n",
    "    average = list([hour, round(int(ask_comments_by_hour[hour])/int(ask_counts_by_hour[hour]),2)])\n",
    "    avg_by_hour.append(average)\n",
    "\n",
    "print(avg_by_hour)"
   ]
  },
  {
   "cell_type": "code",
   "execution_count": 25,
   "metadata": {},
   "outputs": [
    {
     "name": "stdout",
     "output_type": "stream",
     "text": [
      "Top 5 Hours for Ask Comments\n",
      "23:00: 6.7 average comments per hour\n",
      "22:00: 8.8 average comments per hour\n",
      "21:00: 8.69 average comments per hour\n",
      "20:00: 8.75 average comments per hour\n",
      "19:00: 7.16 average comments per hour\n"
     ]
    }
   ],
   "source": [
    "swapped_avg_by_hour = []\n",
    "\n",
    "for row in avg_by_hour:\n",
    "    swapped_avg_by_hour.append(row)\n",
    "\n",
    "sorted_swap=sorted(swapped_avg_by_hour,reverse=True)\n",
    "print(\"Top 5 Hours for Ask Comments\")\n",
    "\n",
    "for row in sorted_swap[:5]:\n",
    "    datetime_obj = dt.datetime.strptime(str(row[0]), \"%H\")\n",
    "    time = datetime_obj.strftime(\"%H:%M\")\n",
    "    print(\"{}: {} average comments per hour\".format(time, row[1]))\n",
    "    "
   ]
  }
 ],
 "metadata": {
  "kernelspec": {
   "display_name": "Python 3",
   "language": "python",
   "name": "python3"
  },
  "language_info": {
   "codemirror_mode": {
    "name": "ipython",
    "version": 3
   },
   "file_extension": ".py",
   "mimetype": "text/x-python",
   "name": "python",
   "nbconvert_exporter": "python",
   "pygments_lexer": "ipython3",
   "version": "3.8.3"
  }
 },
 "nbformat": 4,
 "nbformat_minor": 4
}
